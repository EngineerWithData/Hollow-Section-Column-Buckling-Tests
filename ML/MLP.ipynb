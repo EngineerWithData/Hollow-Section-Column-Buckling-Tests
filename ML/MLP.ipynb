{
  "nbformat": 4,
  "nbformat_minor": 0,
  "metadata": {
    "colab": {
      "provenance": [],
      "authorship_tag": "ABX9TyMt961z5tingBdzPwTTrgto",
      "include_colab_link": true
    },
    "kernelspec": {
      "name": "python3",
      "display_name": "Python 3"
    },
    "language_info": {
      "name": "python"
    }
  },
  "cells": [
    {
      "cell_type": "markdown",
      "metadata": {
        "id": "view-in-github",
        "colab_type": "text"
      },
      "source": [
        "<a href=\"https://colab.research.google.com/github/hyeyoungkoh/Data-driven-steel-design/blob/main/ML/MLP.ipynb\" target=\"_parent\"><img src=\"https://colab.research.google.com/assets/colab-badge.svg\" alt=\"Open In Colab\"/></a>"
      ]
    },
    {
      "cell_type": "markdown",
      "source": [
        "*Version 1.0, March 2023*\n",
        "<br>\n",
        "By Hyeyoung Koh hyeyoung.koh@wisc.edu and Hannah Blum hannah.blum@wisc.edu\n",
        "<br>\n",
        "<font color=grey>Civil and Environmental Engineering, University of Wisconsin-Madison </font>"
      ],
      "metadata": {
        "id": "BabUI398OTfK"
      }
    },
    {
      "cell_type": "markdown",
      "source": [
        "1. Import Python packages needed"
      ],
      "metadata": {
        "id": "exIND0X9fvuS"
      }
    },
    {
      "cell_type": "code",
      "execution_count": null,
      "metadata": {
        "id": "tq6Dp-TXOH7v"
      },
      "outputs": [],
      "source": [
        "import pandas as pd\n",
        "import numpy as np\n",
        "import matplotlib.pyplot as plt\n",
        "\n",
        "from sklearn.model_selection import train_test_split\n",
        "from sklearn.preprocessing import StandardScaler\n",
        "from sklearn.neural_network import MLPRegressor"
      ]
    },
    {
      "cell_type": "markdown",
      "source": [
        "2. Create a dataframe"
      ],
      "metadata": {
        "id": "GbObIJOF3Ow4"
      }
    },
    {
      "cell_type": "code",
      "source": [
        "data_url = 'https://raw.githubusercontent.com/HyeyoungKoh/Data-driven-steel-design/main/dataset.csv'\n",
        "data = pd.read_csv(data_url, header=0)\n",
        "\n",
        "data = data[data!= -1] # remove Nu=-1 (publish data without -1)\n",
        "data = data.dropna()\n",
        "\n",
        "data_x = data[['Forming','$H$', '$B$', '$r_o$', '$t$', '$L_{c}$', '$F_y$']] #primary parameters\n",
        "# data_x = data[['Forming','$A_{e}$', '$I$', '$L_{c}/r$','$F_y$']] #secondary parameters\n",
        "\n",
        "data['Forming'].replace(['Cold-formed', 'Hot-rolled'],[0, 1], inplace=True) #replace labels of 'Cold-formed' and 'Hot-rolled' to numeric values to make it machine-readable\n"
      ],
      "metadata": {
        "id": "EngdfDj4OUgU"
      },
      "execution_count": null,
      "outputs": []
    },
    {
      "cell_type": "markdown",
      "source": [
        "3. Split the data into train and test sets"
      ],
      "metadata": {
        "id": "YiE-cck0OS0R"
      }
    },
    {
      "cell_type": "code",
      "source": [
        "y = pd.DataFrame(data,columns=['$N_u (kN)$']) #response variable, Nu\n",
        "X= pd.DataFrame(data,columns=data_x.columns) #input variables\n",
        "\n",
        "X_train, X_test, y_train, y_test = train_test_split(X, y, test_size=0.3, random_state=123)\n",
        "\n",
        "#Scale the data\n",
        "sc_X = StandardScaler() \n",
        "sc_y = StandardScaler()\n",
        "X_sc = sc_X.fit_transform(X)\n",
        "y_sc = sc_y.fit_transform(y)\n",
        "\n",
        "X_train_sc, X_test_sc, y_train_sc, y_test_sc = train_test_split(X_sc, y_sc, test_size=0.3, random_state=123)\n"
      ],
      "metadata": {
        "id": "3j23FvznOfv6"
      },
      "execution_count": null,
      "outputs": []
    },
    {
      "cell_type": "markdown",
      "source": [
        "4. Train the MLP model"
      ],
      "metadata": {
        "id": "S1Go9GuzVtP5"
      }
    },
    {
      "cell_type": "code",
      "source": [
        "mlp= MLPRegressor(random_state=123, activation='relu', alpha=5e-05, hidden_layer_sizes=(100,150,50),learning_rate='constant', solver= 'lbfgs',max_iter=1000) #primary parameters\n",
        "# mlp= MLPRegressor(random_state=123, activation='relu', alpha=5e-05, hidden_layer_sizes=(100,150),learning_rate='constant', solver= 'lbfgs',max_iter=1000) #secondary parameters\n",
        "\n",
        "mlp.fit(X_train_sc, y_train_sc.ravel())\n",
        "\n",
        "# y_pred_mlp_train = mlp.predict(X_train_sc) #prediction of the training set\n",
        "# y_pred_mlp = mlp.predict(X_test_sc) #prediction of the test set\n",
        "\n",
        "# y_pred_mlp_de_train = mlp.predict(X_train_sc)*np.std(y).item()+np.mean(y).item() #De-normalize prediction of the training set\n",
        "# y_pred_mlp_de = y_pred_mlp*np.std(y).item()+np.mean(y).item() #De-normalize prediction of the test set\n",
        "\n",
        "# r2_train = r2_score(y_train, y_pred_mlp_de_train)\n",
        "# r2_test = r2_score(y_test, y_pred_mlp_de)\n",
        "\n",
        "# print('r2 score for training = {:8.4f}'.format(r2_train))\n",
        "# print('r2 score for testing = {:8.4f}'.format(r2_test))"
      ],
      "metadata": {
        "id": "Vd7yl3hvOk-x",
        "colab": {
          "base_uri": "https://localhost:8080/",
          "height": 92
        },
        "outputId": "f63130fa-1046-44f3-919d-d585ab4119af"
      },
      "execution_count": null,
      "outputs": [
        {
          "output_type": "execute_result",
          "data": {
            "text/plain": [
              "MLPRegressor(alpha=5e-05, hidden_layer_sizes=(100, 150, 50), max_iter=1000,\n",
              "             random_state=123, solver='lbfgs')"
            ],
            "text/html": [
              "<style>#sk-container-id-3 {color: black;background-color: white;}#sk-container-id-3 pre{padding: 0;}#sk-container-id-3 div.sk-toggleable {background-color: white;}#sk-container-id-3 label.sk-toggleable__label {cursor: pointer;display: block;width: 100%;margin-bottom: 0;padding: 0.3em;box-sizing: border-box;text-align: center;}#sk-container-id-3 label.sk-toggleable__label-arrow:before {content: \"▸\";float: left;margin-right: 0.25em;color: #696969;}#sk-container-id-3 label.sk-toggleable__label-arrow:hover:before {color: black;}#sk-container-id-3 div.sk-estimator:hover label.sk-toggleable__label-arrow:before {color: black;}#sk-container-id-3 div.sk-toggleable__content {max-height: 0;max-width: 0;overflow: hidden;text-align: left;background-color: #f0f8ff;}#sk-container-id-3 div.sk-toggleable__content pre {margin: 0.2em;color: black;border-radius: 0.25em;background-color: #f0f8ff;}#sk-container-id-3 input.sk-toggleable__control:checked~div.sk-toggleable__content {max-height: 200px;max-width: 100%;overflow: auto;}#sk-container-id-3 input.sk-toggleable__control:checked~label.sk-toggleable__label-arrow:before {content: \"▾\";}#sk-container-id-3 div.sk-estimator input.sk-toggleable__control:checked~label.sk-toggleable__label {background-color: #d4ebff;}#sk-container-id-3 div.sk-label input.sk-toggleable__control:checked~label.sk-toggleable__label {background-color: #d4ebff;}#sk-container-id-3 input.sk-hidden--visually {border: 0;clip: rect(1px 1px 1px 1px);clip: rect(1px, 1px, 1px, 1px);height: 1px;margin: -1px;overflow: hidden;padding: 0;position: absolute;width: 1px;}#sk-container-id-3 div.sk-estimator {font-family: monospace;background-color: #f0f8ff;border: 1px dotted black;border-radius: 0.25em;box-sizing: border-box;margin-bottom: 0.5em;}#sk-container-id-3 div.sk-estimator:hover {background-color: #d4ebff;}#sk-container-id-3 div.sk-parallel-item::after {content: \"\";width: 100%;border-bottom: 1px solid gray;flex-grow: 1;}#sk-container-id-3 div.sk-label:hover label.sk-toggleable__label {background-color: #d4ebff;}#sk-container-id-3 div.sk-serial::before {content: \"\";position: absolute;border-left: 1px solid gray;box-sizing: border-box;top: 0;bottom: 0;left: 50%;z-index: 0;}#sk-container-id-3 div.sk-serial {display: flex;flex-direction: column;align-items: center;background-color: white;padding-right: 0.2em;padding-left: 0.2em;position: relative;}#sk-container-id-3 div.sk-item {position: relative;z-index: 1;}#sk-container-id-3 div.sk-parallel {display: flex;align-items: stretch;justify-content: center;background-color: white;position: relative;}#sk-container-id-3 div.sk-item::before, #sk-container-id-3 div.sk-parallel-item::before {content: \"\";position: absolute;border-left: 1px solid gray;box-sizing: border-box;top: 0;bottom: 0;left: 50%;z-index: -1;}#sk-container-id-3 div.sk-parallel-item {display: flex;flex-direction: column;z-index: 1;position: relative;background-color: white;}#sk-container-id-3 div.sk-parallel-item:first-child::after {align-self: flex-end;width: 50%;}#sk-container-id-3 div.sk-parallel-item:last-child::after {align-self: flex-start;width: 50%;}#sk-container-id-3 div.sk-parallel-item:only-child::after {width: 0;}#sk-container-id-3 div.sk-dashed-wrapped {border: 1px dashed gray;margin: 0 0.4em 0.5em 0.4em;box-sizing: border-box;padding-bottom: 0.4em;background-color: white;}#sk-container-id-3 div.sk-label label {font-family: monospace;font-weight: bold;display: inline-block;line-height: 1.2em;}#sk-container-id-3 div.sk-label-container {text-align: center;}#sk-container-id-3 div.sk-container {/* jupyter's `normalize.less` sets `[hidden] { display: none; }` but bootstrap.min.css set `[hidden] { display: none !important; }` so we also need the `!important` here to be able to override the default hidden behavior on the sphinx rendered scikit-learn.org. See: https://github.com/scikit-learn/scikit-learn/issues/21755 */display: inline-block !important;position: relative;}#sk-container-id-3 div.sk-text-repr-fallback {display: none;}</style><div id=\"sk-container-id-3\" class=\"sk-top-container\"><div class=\"sk-text-repr-fallback\"><pre>MLPRegressor(alpha=5e-05, hidden_layer_sizes=(100, 150, 50), max_iter=1000,\n",
              "             random_state=123, solver=&#x27;lbfgs&#x27;)</pre><b>In a Jupyter environment, please rerun this cell to show the HTML representation or trust the notebook. <br />On GitHub, the HTML representation is unable to render, please try loading this page with nbviewer.org.</b></div><div class=\"sk-container\" hidden><div class=\"sk-item\"><div class=\"sk-estimator sk-toggleable\"><input class=\"sk-toggleable__control sk-hidden--visually\" id=\"sk-estimator-id-3\" type=\"checkbox\" checked><label for=\"sk-estimator-id-3\" class=\"sk-toggleable__label sk-toggleable__label-arrow\">MLPRegressor</label><div class=\"sk-toggleable__content\"><pre>MLPRegressor(alpha=5e-05, hidden_layer_sizes=(100, 150, 50), max_iter=1000,\n",
              "             random_state=123, solver=&#x27;lbfgs&#x27;)</pre></div></div></div></div></div>"
            ]
          },
          "metadata": {},
          "execution_count": 12
        }
      ]
    },
    {
      "cell_type": "markdown",
      "source": [
        "5. Get buckling strength of hollow section columns using the input parameters\n",
        "<br>\n",
        "![](https://drive.google.com/uc?export=view&id=1fVJhOJFdaF-1Hf6rScM06e3RIzNVEoc1)"
      ],
      "metadata": {
        "id": "6o4vuZzU3hTe"
      }
    },
    {
      "cell_type": "code",
      "source": [
        "Forming = 0 # use 0 for cold-formed steel and 1 for hot-rolled steel\n",
        "H = 150 # overall height, mm\n",
        "B = 150 # overall width, mm\n",
        "ro = 9 # outer corner radius, mm\n",
        "t = 5 # thickness, mm\n",
        "Lc = 1700 # the effective length, mm\n",
        "Fy = 600 # yield stress, MPa\n",
        "\n",
        "#scale the parameters\n",
        "Forming_s = (Forming-np.mean(X['Forming']))/np.std(X['Forming'])\n",
        "H_s = (H-np.mean(X['$H$']))/np.std(X['$H$'])\n",
        "B_s = (B-np.mean(X['$B$']))/np.std(X['$B$'])\n",
        "ro_s = (ro-np.mean(X['$r_o$']))/np.std(X['$r_o$'])\n",
        "t_s = (t-np.mean(X['$t$']))/np.std(X['$t$'])\n",
        "Lc_s = (Lc-np.mean(X['$L_{c}$']))/np.std(X['$L_{c}$'])\n",
        "Fy_s = (Fy-np.mean(X['$F_y$']))/np.std(X['$F_y$'])\n",
        "\n",
        "input = pd.DataFrame([[Forming_s, H_s, B_s, ro_s, t_s, Lc_s, Fy_s]], columns=data_x.columns)\n",
        "y_pred = mlp.predict(input) #get prediction using the scaled parameters\n",
        "y_pred_de = y_pred*np.std(y).item()+np.mean(y).item() #De-normalize y_pred\n",
        "\n",
        "print('Buckling strength = {:6.1f} kN'.format(y_pred_de[0]))"
      ],
      "metadata": {
        "colab": {
          "base_uri": "https://localhost:8080/"
        },
        "id": "SSvCpHGG3kbm",
        "outputId": "7347ebd5-79b0-4463-90d1-24fc8e2361cb"
      },
      "execution_count": null,
      "outputs": [
        {
          "output_type": "stream",
          "name": "stdout",
          "text": [
            "Buckling strength = 1663.9 kN\n"
          ]
        },
        {
          "output_type": "stream",
          "name": "stderr",
          "text": [
            "/usr/local/lib/python3.9/dist-packages/sklearn/base.py:432: UserWarning: X has feature names, but MLPRegressor was fitted without feature names\n",
            "  warnings.warn(\n",
            "/usr/local/lib/python3.9/dist-packages/numpy/core/fromnumeric.py:3472: FutureWarning: In a future version, DataFrame.mean(axis=None) will return a scalar mean over the entire DataFrame. To retain the old behavior, use 'frame.mean(axis=0)' or just 'frame.mean()'\n",
            "  return mean(axis=axis, dtype=dtype, out=out, **kwargs)\n"
          ]
        }
      ]
    }
  ]
}
