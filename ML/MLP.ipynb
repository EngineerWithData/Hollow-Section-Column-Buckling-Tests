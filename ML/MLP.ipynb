{
  "nbformat": 4,
  "nbformat_minor": 0,
  "metadata": {
    "colab": {
      "provenance": [],
      "include_colab_link": true
    },
    "kernelspec": {
      "name": "python3",
      "display_name": "Python 3"
    },
    "language_info": {
      "name": "python"
    }
  },
  "cells": [
    {
      "cell_type": "markdown",
      "metadata": {
        "id": "view-in-github",
        "colab_type": "text"
      },
      "source": [
        "<a href=\"https://colab.research.google.com/github/hyeyoungkoh/Data-driven-hollow-section-column-design/blob/main/ML/MLP.ipynb\" target=\"_parent\"><img src=\"https://colab.research.google.com/assets/colab-badge.svg\" alt=\"Open In Colab\"/></a>"
      ]
    },
    {
      "cell_type": "markdown",
      "source": [
        "*Version 1.0, March 2023*\n",
        "<br>\n",
        "By Hyeyoung Koh hyeyoung.koh@wisc.edu and Hannah Blum hannah.blum@wisc.edu\n",
        "<br>\n",
        "<font color=grey>Civil and Environmental Engineering, University of Wisconsin-Madison </font>"
      ],
      "metadata": {
        "id": "BabUI398OTfK"
      }
    },
    {
      "cell_type": "markdown",
      "source": [
        "1. Import Python packages needed"
      ],
      "metadata": {
        "id": "exIND0X9fvuS"
      }
    },
    {
      "cell_type": "code",
      "execution_count": 1,
      "metadata": {
        "id": "tq6Dp-TXOH7v"
      },
      "outputs": [],
      "source": [
        "import pandas as pd\n",
        "import numpy as np\n",
        "import matplotlib.pyplot as plt\n",
        "\n",
        "from sklearn.model_selection import train_test_split\n",
        "from sklearn.preprocessing import StandardScaler\n",
        "from sklearn.neural_network import MLPRegressor"
      ]
    },
    {
      "cell_type": "markdown",
      "source": [
        "2. Create a dataframe"
      ],
      "metadata": {
        "id": "GbObIJOF3Ow4"
      }
    },
    {
      "cell_type": "code",
      "source": [
        "data_url = 'https://raw.githubusercontent.com/HyeyoungKoh/Data-driven-steel-design/main/dataset.csv'\n",
        "data = pd.read_csv(data_url, header=0)\n",
        "\n",
        "data = data[data!= -1] # remove Nu=-1 (publish data without -1)\n",
        "data = data.dropna()\n",
        "\n",
        "data_x = data[['Forming','$H$', '$B$', '$r_o$', '$t$', '$L_{c}$', '$F_y$']] #primary parameters\n",
        "# data_x = data[['Forming','$A_{e}$', '$I$', '$L_{c}/r$','$F_y$']] #secondary parameters\n",
        "\n",
        "data['Forming'].replace(['Cold-formed', 'Hot-rolled'],[0, 1], inplace=True) #replace labels of 'Cold-formed' and 'Hot-rolled' to numeric values to make it machine-readable\n"
      ],
      "metadata": {
        "id": "EngdfDj4OUgU"
      },
      "execution_count": 3,
      "outputs": []
    },
    {
      "cell_type": "markdown",
      "source": [
        "3. Split the data into train and test sets"
      ],
      "metadata": {
        "id": "YiE-cck0OS0R"
      }
    },
    {
      "cell_type": "code",
      "source": [
        "y = pd.DataFrame(data,columns=['$N_u (kN)$']) #response variable, Nu\n",
        "X= pd.DataFrame(data,columns=data_x.columns) #input variables\n",
        "\n",
        "X_train, X_test, y_train, y_test = train_test_split(X, y, test_size=0.3, random_state=123)\n",
        "\n",
        "#Scale the data\n",
        "sc_X = StandardScaler()\n",
        "sc_y = StandardScaler()\n",
        "X_sc = sc_X.fit_transform(X)\n",
        "y_sc = sc_y.fit_transform(y)\n",
        "\n",
        "X_train_sc, X_test_sc, y_train_sc, y_test_sc = train_test_split(X_sc, y_sc, test_size=0.3, random_state=123)\n"
      ],
      "metadata": {
        "id": "3j23FvznOfv6"
      },
      "execution_count": 4,
      "outputs": []
    },
    {
      "cell_type": "markdown",
      "source": [
        "4. Train the MLP model"
      ],
      "metadata": {
        "id": "S1Go9GuzVtP5"
      }
    },
    {
      "cell_type": "code",
      "source": [
        "mlp= MLPRegressor(random_state=123, activation='relu', alpha=5e-05, hidden_layer_sizes=(100,150,50),learning_rate='constant', solver= 'lbfgs',max_iter=1000) #primary parameters\n",
        "# mlp= MLPRegressor(random_state=123, activation='relu', alpha=5e-05, hidden_layer_sizes=(100,150),learning_rate='constant', solver= 'lbfgs',max_iter=1000) #secondary parameters\n",
        "\n",
        "mlp.fit(X_train_sc, y_train_sc.ravel())\n",
        "\n",
        "# y_pred_mlp_train = mlp.predict(X_train_sc) #prediction of the training set\n",
        "# y_pred_mlp = mlp.predict(X_test_sc) #prediction of the test set\n",
        "\n",
        "# y_pred_mlp_de_train = mlp.predict(X_train_sc)*np.std(y).item()+np.mean(y).item() #De-normalize prediction of the training set\n",
        "# y_pred_mlp_de = y_pred_mlp*np.std(y).item()+np.mean(y).item() #De-normalize prediction of the test set\n",
        "\n",
        "# r2_train = r2_score(y_train, y_pred_mlp_de_train)\n",
        "# r2_test = r2_score(y_test, y_pred_mlp_de)\n",
        "\n",
        "# print('r2 score for training = {:8.4f}'.format(r2_train))\n",
        "# print('r2 score for testing = {:8.4f}'.format(r2_test))"
      ],
      "metadata": {
        "id": "Vd7yl3hvOk-x"
      },
      "execution_count": null,
      "outputs": []
    },
    {
      "cell_type": "markdown",
      "source": [
        "5. Get buckling strength of hollow section columns using the input parameters"
      ],
      "metadata": {
        "id": "6o4vuZzU3hTe"
      }
    },
    {
      "cell_type": "code",
      "source": [
        "Forming = 0 # use 0 for cold-formed steel and 1 for hot-rolled steel\n",
        "H = 150 # overall height, mm\n",
        "B = 150 # overall width, mm\n",
        "ro = 9 # outer corner radius, mm\n",
        "t = 5 # thickness, mm\n",
        "Lc = 1700 # the effective length, mm\n",
        "Fy = 600 # yield stress, MPa\n",
        "\n",
        "#scale the parameters\n",
        "Forming_s = (Forming-np.mean(X['Forming']))/np.std(X['Forming'])\n",
        "H_s = (H-np.mean(X['$H$']))/np.std(X['$H$'])\n",
        "B_s = (B-np.mean(X['$B$']))/np.std(X['$B$'])\n",
        "ro_s = (ro-np.mean(X['$r_o$']))/np.std(X['$r_o$'])\n",
        "t_s = (t-np.mean(X['$t$']))/np.std(X['$t$'])\n",
        "Lc_s = (Lc-np.mean(X['$L_{c}$']))/np.std(X['$L_{c}$'])\n",
        "Fy_s = (Fy-np.mean(X['$F_y$']))/np.std(X['$F_y$'])\n",
        "\n",
        "input = pd.DataFrame([[Forming_s, H_s, B_s, ro_s, t_s, Lc_s, Fy_s]], columns=data_x.columns)\n",
        "y_pred = mlp.predict(input) #get prediction using the scaled parameters\n",
        "y_pred_de = y_pred*np.std(y).item()+np.mean(y).item() #De-normalize y_pred\n",
        "\n",
        "print('Buckling strength = {:6.1f} kN'.format(y_pred_de[0]))"
      ],
      "metadata": {
        "colab": {
          "base_uri": "https://localhost:8080/"
        },
        "id": "SSvCpHGG3kbm",
        "outputId": "a18dd634-251c-4063-ec8d-b29e9df093bf"
      },
      "execution_count": 8,
      "outputs": [
        {
          "output_type": "stream",
          "name": "stdout",
          "text": [
            "Buckling strength = 1493.3 kN\n"
          ]
        },
        {
          "output_type": "stream",
          "name": "stderr",
          "text": [
            "/usr/local/lib/python3.10/dist-packages/sklearn/base.py:432: UserWarning: X has feature names, but MLPRegressor was fitted without feature names\n",
            "  warnings.warn(\n",
            "/usr/local/lib/python3.10/dist-packages/numpy/core/fromnumeric.py:3430: FutureWarning: In a future version, DataFrame.mean(axis=None) will return a scalar mean over the entire DataFrame. To retain the old behavior, use 'frame.mean(axis=0)' or just 'frame.mean()'\n",
            "  return mean(axis=axis, dtype=dtype, out=out, **kwargs)\n"
          ]
        }
      ]
    }
  ]
}