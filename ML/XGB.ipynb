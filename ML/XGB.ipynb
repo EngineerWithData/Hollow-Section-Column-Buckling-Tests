{
  "nbformat": 4,
  "nbformat_minor": 0,
  "metadata": {
    "colab": {
      "provenance": [],
      "include_colab_link": true
    },
    "kernelspec": {
      "name": "python3",
      "display_name": "Python 3"
    },
    "language_info": {
      "name": "python"
    }
  },
  "cells": [
    {
      "cell_type": "markdown",
      "metadata": {
        "id": "view-in-github",
        "colab_type": "text"
      },
      "source": [
        "<a href=\"https://colab.research.google.com/github/hyeyoungkoh/Data-driven-hollow-section-column-design/blob/main/ML/XGB.ipynb\" target=\"_parent\"><img src=\"https://colab.research.google.com/assets/colab-badge.svg\" alt=\"Open In Colab\"/></a>"
      ]
    },
    {
      "cell_type": "markdown",
      "source": [
        "**Hyeyoung Koh, 01/03/2022**"
      ],
      "metadata": {
        "id": "KTUXs5M53X3O"
      }
    },
    {
      "cell_type": "markdown",
      "source": [
        "Import Python packages needed"
      ],
      "metadata": {
        "id": "O28YLP-pyIv-"
      }
    },
    {
      "cell_type": "code",
      "source": [
        "import pandas as pd\n",
        "import numpy as np\n",
        "import matplotlib.pyplot as plt\n",
        "from sklearn.model_selection import train_test_split\n",
        "\n",
        "import xgboost as xgb\n",
        "from xgboost.sklearn import XGBRegressor\n",
        "from sklearn.metrics import r2_score"
      ],
      "metadata": {
        "id": "jdoPI5Bqt6XE"
      },
      "execution_count": 1,
      "outputs": []
    },
    {
      "cell_type": "markdown",
      "source": [
        "Create a dataframe"
      ],
      "metadata": {
        "id": "RuVqU4T3PB0W"
      }
    },
    {
      "cell_type": "code",
      "source": [
        "data_url = 'https://raw.githubusercontent.com/HyeyoungKoh/Data-driven-steel-design/main/dataset.csv'\n",
        "data = pd.read_csv(data_url, header=0)\n",
        "\n",
        "data = data[data!= -1] # remove Nu=-1 (publish data without -1)\n",
        "data = data.dropna()\n",
        "\n",
        "data_x = data[['Forming','$H$', '$B$', '$r_o$', '$t$', '$L_{c}$', '$F_y$']] #primary parameters\n",
        "# data_x = data[['Forming','$A_{e}$', '$I$', '$L_{c}/r$','$F_y$']] #secondary parameters\n",
        "\n",
        "data['Forming'].replace(['Cold-formed', 'Hot-rolled'],[0, 1], inplace=True) #replace labels of 'Cold-formed' and 'Hot-rolled' to numeric values to make it machine-readable\n"
      ],
      "metadata": {
        "id": "EngdfDj4OUgU"
      },
      "execution_count": 3,
      "outputs": []
    },
    {
      "cell_type": "markdown",
      "source": [
        "Split the data into train and test sets"
      ],
      "metadata": {
        "id": "YiE-cck0OS0R"
      }
    },
    {
      "cell_type": "code",
      "source": [
        "y = pd.DataFrame(data,columns=['$N_u (kN)$']) #response variable, Nu\n",
        "X= pd.DataFrame(data,columns=data_x.columns) #input variables\n",
        "\n",
        "X_train, X_test, y_train, y_test = train_test_split(X, y, test_size=0.3, random_state=123) # can change test_size\n",
        "\n"
      ],
      "metadata": {
        "id": "3j23FvznOfv6"
      },
      "execution_count": 4,
      "outputs": []
    },
    {
      "cell_type": "markdown",
      "source": [
        "Train the XGBoost model"
      ],
      "metadata": {
        "id": "WLBu0130PutM"
      }
    },
    {
      "cell_type": "code",
      "source": [
        "xgb=  XGBRegressor(colsample_bytree= 0.5, gamma= 0.1, learning_rate= 0.3, max_depth= 8, min_child_weight= 5,verbosity = 0) # train with the primary parameters\n",
        "# xgb=  XGBRegressor(colsample_bytree= 0.6, gamma= 0.0, learning_rate= 0.15, max_depth= 6, min_child_weight= 3,verbosity = 0) # train with the secondary parameters\n",
        "\n",
        "xgb.fit(X_train, y_train,early_stopping_rounds=1,eval_set= [(X_test, y_test)], verbose=False)\n",
        "\n",
        "y_pred_xgb_train = xgb.predict(X_train) #prediction of the training set\n",
        "y_pred_xgb=xgb.predict(X_test) #prediction of the test set\n",
        "\n",
        "# r2_train = r2_score(y_train, y_pred_xgb_train) # performance of the training set\n",
        "# r2_test = r2_score(y_test, y_pred_xgb) # performance of the test set\n",
        "\n",
        "# print('r2 score for training = {:8.4f}'.format(r2_train))\n",
        "# print('r2 score for testing = {:8.4f}'.format(r2_test))"
      ],
      "metadata": {
        "id": "Vd7yl3hvOk-x"
      },
      "execution_count": 9,
      "outputs": []
    },
    {
      "cell_type": "markdown",
      "source": [
        "Get buckling strength of hollow section columns using the input parameters"
      ],
      "metadata": {
        "id": "1GIuexzinC6t"
      }
    },
    {
      "cell_type": "code",
      "source": [
        "Forming = 0 # use 0 for cold-formed steel and 1 for hot-rolled steel\n",
        "H = 150 # overall height, mm\n",
        "B = 150 # overall width, mm\n",
        "ro = 9 # outer corner radius, mm\n",
        "t = 5 # thickness, mm\n",
        "Lc = 1700 # the effective length, mm\n",
        "Fy = 600 # yield stress, MPa\n",
        "\n",
        "input = pd.DataFrame([[Forming, H, B, ro, t, Lc, Fy]], columns=data_x.columns)\n",
        "y_pred = xgb.predict(input) #get prediction using the parameters"
      ],
      "metadata": {
        "id": "YjiGySkzVeZ-"
      },
      "execution_count": 15,
      "outputs": []
    },
    {
      "cell_type": "code",
      "source": [
        "print('Buckling strength = {:6.1f} kN'.format(y_pred[0]))"
      ],
      "metadata": {
        "id": "nNecg82QnoUB",
        "outputId": "3f72d216-7511-40a6-e470-07a1b0cfa698",
        "colab": {
          "base_uri": "https://localhost:8080/"
        }
      },
      "execution_count": 16,
      "outputs": [
        {
          "output_type": "stream",
          "name": "stdout",
          "text": [
            "Buckling strength = 1197.7 kN\n"
          ]
        }
      ]
    }
  ]
}