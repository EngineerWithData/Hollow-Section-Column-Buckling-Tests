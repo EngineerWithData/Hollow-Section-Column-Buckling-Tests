{
  "nbformat": 4,
  "nbformat_minor": 0,
  "metadata": {
    "colab": {
      "provenance": [],
      "include_colab_link": true
    },
    "kernelspec": {
      "name": "python3",
      "display_name": "Python 3"
    },
    "language_info": {
      "name": "python"
    }
  },
  "cells": [
    {
      "cell_type": "markdown",
      "metadata": {
        "id": "view-in-github",
        "colab_type": "text"
      },
      "source": [
        "<a href=\"https://colab.research.google.com/github/HyeyoungKoh/Data-driven-steel-design/blob/main/Column_design_provisions.ipynb\" target=\"_parent\"><img src=\"https://colab.research.google.com/assets/colab-badge.svg\" alt=\"Open In Colab\"/></a>"
      ]
    },
    {
      "cell_type": "markdown",
      "source": [
        "## **Fall 2022 CEE445: Steel Structures - Design of Members for Compression**\n",
        "\n",
        "**by Hyeyoung Koh hyeyoung.koh@wisc.edu and Hannah Blum hannah.blum@wisc.edu**\n",
        "\n",
        "**University of Wisconsin-Madison**\n",
        "\n",
        "In this module, we learn how to\n",
        "1. plot theoretical yield and buckling \n",
        "2. plot Eqn E3-2 and E3-3\n",
        "3. calculate the slenderness values where the inelastic and elastic ranges meet\n",
        "4. plot nominal and design strength"
      ],
      "metadata": {
        "id": "0986ffwX1a2D"
      }
    },
    {
      "cell_type": "code",
      "source": [
        "#import libraries for Python\n",
        "import pandas as pd\n",
        "import numpy as np\n",
        "import matplotlib.pyplot as plt"
      ],
      "metadata": {
        "id": "L3JNa-BjuDyp"
      },
      "execution_count": null,
      "outputs": []
    },
    {
      "cell_type": "markdown",
      "source": [
        "**1. List section and material properties of the W14×61 cross-section.**"
      ],
      "metadata": {
        "id": "kRXpf5tO3dmh"
      }
    },
    {
      "cell_type": "markdown",
      "source": [
        "> Material properties from Table 2-4\\\n",
        "Cross-sectional properties from Table 1-1\n"
      ],
      "metadata": {
        "id": "8UQQBpc33kcQ"
      }
    },
    {
      "cell_type": "code",
      "source": [
        "# Material properties\n",
        "E = 29000 # Young's modulus, ksi\n",
        "Fy = 50 # yield strength, ksi\n",
        "\n",
        "# Cross-sectional properteis from Table 1-1\n",
        "r = 5.98 # rx, W14x61\n",
        "A = 17.9\n",
        "\n",
        "K = 1.0 #effective length factor"
      ],
      "metadata": {
        "id": "aTZZA3AL3pcs"
      },
      "execution_count": null,
      "outputs": []
    },
    {
      "cell_type": "markdown",
      "source": [
        "**This code uses the provisions in Specification Section E3. This assumes the sections are nonslender. You must check if the section is nonslender as defined in Section B4.1 for elements in axial compression.**"
      ],
      "metadata": {
        "id": "9Q4pJYwA5uuB"
      }
    },
    {
      "cell_type": "markdown",
      "source": [
        "**2. Calculate Euler buckling stress $F_e$ (Eq. E3-4) and critical buckling stress $F_{cr}$ (Eqs. E3-2 and E3-3).**"
      ],
      "metadata": {
        "id": "PDQ2G-9Bgiws"
      }
    },
    {
      "cell_type": "code",
      "source": [
        "L = np.linspace(0.01,1500,250) # Create a range of member length, inches, (start, stop, number of samples) \n",
        "\n",
        "#Create arrays for Fe and Fcr (needed for coding)\n",
        "Fe = np.zeros(len(L)) \n",
        "Fcr = np.zeros(len(L))\n",
        "\n",
        "#Calculate Fe and Fcr\n",
        "for i in range(len(L)):\n",
        "  Fe[i] = np.pi**2*E/(K*L[i]/r)**2 #Eq E3-4, elastic buckling stress (Euler buckling stress)\n",
        "  if K*L[i]/r <= 4.71*np.sqrt(E/Fy): \n",
        "    Fcr[i] = (0.658**(Fy/Fe[i]))*Fy #Eq E3-2\n",
        "  else:\n",
        "    Fcr[i] = 0.877*Fe[i] #Eq E3-3"
      ],
      "metadata": {
        "id": "J1k7fpSy3NWu"
      },
      "execution_count": null,
      "outputs": []
    },
    {
      "cell_type": "markdown",
      "source": [
        "**3. Plot buckling stress curves**"
      ],
      "metadata": {
        "id": "vmbgTD-pxw0W"
      }
    },
    {
      "cell_type": "code",
      "source": [
        "plt.plot(K*L/r,Fcr, c='k', label=r'$F_{cr}$')\n",
        "plt.plot(K*L/r,Fe, c='b', label=r'$F_e$')\n",
        "\n",
        "# plot lines to show bounds\n",
        "plt.axhline(y=Fy, color='r', linestyle='--', label = r'$F_y$') # horizontal line for Fy\n",
        "plt.axhline(y=Fcr[np.max(np.where(L/r <= 4.71*np.sqrt(E/Fy)))], color='g', linestyle=':') # horizontal boundary for elastic/inelastic buckling\n",
        "plt.axvline(x=4.71*np.sqrt(E/Fy), color='g', linestyle=':') # vertical boundary for elastic/inelastic buckling\n",
        "plt.xlim(0,250)\n",
        "plt.ylim(0,70)\n",
        "\n",
        "plt.xlabel(r'$L_c/r$')\n",
        "plt.ylabel(r'$\\sigma$ (ksi)')\n",
        "plt.title('Column buckling stress curves')\n",
        "plt.legend()\n",
        "plt.show()"
      ],
      "metadata": {
        "colab": {
          "base_uri": "https://localhost:8080/",
          "height": 299
        },
        "id": "N6XYSuW4xvsa",
        "outputId": "88341af5-7874-479e-edd6-eba79b78a4db"
      },
      "execution_count": null,
      "outputs": [
        {
          "output_type": "display_data",
          "data": {
            "text/plain": [
              "<Figure size 432x288 with 1 Axes>"
            ],
            "image/png": "[encoded data removed]"
          },
          "metadata": {
            "needs_background": "light"
          }
        }
      ]
    },
    {
      "cell_type": "markdown",
      "source": [
        "**4. Plot column buckling strength, nominal and design**"
      ],
      "metadata": {
        "id": "TQQ9ohuIxHVn"
      }
    },
    {
      "cell_type": "code",
      "source": [
        "##### write your code below\n",
        "\n"
      ],
      "metadata": {
        "id": "GE4YgQRHLpok"
      },
      "execution_count": null,
      "outputs": []
    }
  ]
}
